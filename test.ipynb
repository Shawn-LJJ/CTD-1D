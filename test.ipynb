{
 "cells": [
  {
   "cell_type": "code",
   "execution_count": 6,
   "metadata": {},
   "outputs": [
    {
     "name": "stdout",
     "output_type": "stream",
     "text": [
      "\u0007"
     ]
    }
   ],
   "source": [
    "import curses\n",
    "curses.initscr()\n",
    "curses.beep()"
   ]
  },
  {
   "cell_type": "code",
   "execution_count": null,
   "metadata": {},
   "outputs": [],
   "source": [
    "def main(num):\n",
    "    var = 'YES' if num % 2 == 0 else 'NO'\n",
    "    print(var)"
   ]
  },
  {
   "cell_type": "code",
   "execution_count": null,
   "metadata": {},
   "outputs": [
    {
     "data": {
      "text/plain": [
       "['abc']"
      ]
     },
     "execution_count": 2,
     "metadata": {},
     "output_type": "execute_result"
    }
   ],
   "source": []
  },
  {
   "cell_type": "code",
   "execution_count": 23,
   "metadata": {},
   "outputs": [
    {
     "name": "stdout",
     "output_type": "stream",
     "text": [
      "19\n",
      "29\n",
      "39\n",
      "49\n",
      "59\n",
      "69\n",
      "79\n",
      "89\n",
      "99\n",
      "9\n"
     ]
    }
   ],
   "source": [
    "gg = 1e+6\n",
    "num = 0\n",
    "for var in range(int(gg) + 1):\n",
    "    var = str(var)\n",
    "    if len(var) >= 2:\n",
    "        prod = 1\n",
    "        summ = 0\n",
    "        for char in var:\n",
    "            prod *= int(char)\n",
    "            summ += int(char)\n",
    "        final = prod + summ\n",
    "        if final == int(var):\n",
    "            print(final)\n",
    "            num += 1\n",
    "print(num)"
   ]
  },
  {
   "cell_type": "code",
   "execution_count": 24,
   "metadata": {},
   "outputs": [
    {
     "name": "stdout",
     "output_type": "stream",
     "text": [
      "9\n"
     ]
    }
   ],
   "source": [
    "gg = int(input())\n",
    "num = 0\n",
    "maxi = 100 if gg > 100 else gg\n",
    "for var in range(1, maxi):\n",
    "    var = str(var)\n",
    "    if len(var) >= 2:\n",
    "        prod = 1\n",
    "        summ = 0\n",
    "        for char in var:\n",
    "            prod *= int(char)\n",
    "            summ += int(char)\n",
    "        final = prod + summ\n",
    "        if final == int(var):\n",
    "            num += 1\n",
    "print(num)"
   ]
  }
 ],
 "metadata": {
  "kernelspec": {
   "display_name": "python-env",
   "language": "python",
   "name": "python3"
  },
  "language_info": {
   "codemirror_mode": {
    "name": "ipython",
    "version": 3
   },
   "file_extension": ".py",
   "mimetype": "text/x-python",
   "name": "python",
   "nbconvert_exporter": "python",
   "pygments_lexer": "ipython3",
   "version": "3.12.7"
  }
 },
 "nbformat": 4,
 "nbformat_minor": 2
}
